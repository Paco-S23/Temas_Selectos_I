{
  "nbformat": 4,
  "nbformat_minor": 0,
  "metadata": {
    "colab": {
      "provenance": [],
      "authorship_tag": "ABX9TyOIx8MeeQnxlK99jVEXKfdX"
    },
    "kernelspec": {
      "name": "python3",
      "display_name": "Python 3"
    },
    "language_info": {
      "name": "python"
    }
  },
  "cells": [
    {
      "cell_type": "code",
      "execution_count": 12,
      "metadata": {
        "colab": {
          "base_uri": "https://localhost:8080/"
        },
        "id": "fbVPoMPBtHIy",
        "outputId": "33a1fb0e-b2a8-417f-9633-34d81e3ee5a7"
      },
      "outputs": [
        {
          "output_type": "stream",
          "name": "stdout",
          "text": [
            "Archivo ZIP descomprimido exitosamente.\n",
            "\n",
            "Se cargaron 98 imágenes en total.\n",
            "Dimensiones de los datos (imágenes, píxeles): (98, 4096)\n",
            "\n",
            "El modelo fue entrenado con una precisión del 50.00% en los datos de prueba.\n",
            "\n",
            "--- RESULTADO DE LA PREDICCIÓN ---\n",
            "La imagen 'test.jpg' se clasifica como: **class1** (Círculo).\n",
            "-----------------------------------\n"
          ]
        }
      ],
      "source": [
        "import os\n",
        "import zipfile\n",
        "from PIL import Image\n",
        "import numpy as np\n",
        "from sklearn.model_selection import train_test_split\n",
        "from sklearn.linear_model import LogisticRegression\n",
        "from sklearn.metrics import accuracy_score\n",
        "\n",
        "# --- 1. Descomprimir el archivo ZIP ---\n",
        "zip_path = 'Data.zip'\n",
        "\n",
        "if os.path.exists(zip_path):\n",
        "    with zipfile.ZipFile(zip_path, 'r') as zip_ref:\n",
        "        zip_ref.extractall('shapes_data')\n",
        "    print(\"Archivo ZIP descomprimido exitosamente.\")\n",
        "else:\n",
        "    print(\"Error: Asegúrate de haber subido el archivo 'Data.zip'.\")\n",
        "\n",
        "# --- 2. Función para cargar y procesar las imágenes ---\n",
        "def load_and_process_images(folder_path, image_size=(64, 64)):\n",
        "    images = []\n",
        "    for filename in os.listdir(folder_path):\n",
        "        try:\n",
        "            img_path = os.path.join(folder_path, filename)\n",
        "            img = Image.open(img_path).convert('L').resize(image_size)\n",
        "            images.append(np.array(img).flatten())\n",
        "        except Exception as e:\n",
        "            print(f\"No se pudo procesar el archivo {filename}: {e}\")\n",
        "    return images\n",
        "\n",
        "# --- 3. Cargar los datos de entrenamiento ---\n",
        "base_dir = 'shapes_data/Data'
        "class1_dir = os.path.join(base_dir, 'class1')\n",
        "class2_dir = os.path.join(base_dir, 'class2')\n",
        "\n",
        "# Verificar si las rutas existen antes de continuar\n",
        "if not os.path.isdir(base_dir):\n",
        "    print(f\"¡Error Crítico! El directorio base '{base_dir}' no existe. Revisa el contenido de tu archivo ZIP.\")\n",
        "else:\n",
        "    class1_images = load_and_process_images(class1_dir)\n",
        "    class2_images = load_and_process_images(class2_dir)\n",
        "\n",
        "    class1_labels = [0] * len(class1_images)\n",
        "    class2_labels = [1] * len(class2_images)\n",
        "\n",
        "    X = np.array(class1_images + class2_images)\n",
        "    y = np.array(class1_labels + class2_labels)\n",
        "    X = X / 255.0\n",
        "\n",
        "    print(f\"\\nSe cargaron {len(X)} imágenes en total.\")\n",
        "    print(f\"Dimensiones de los datos (imágenes, píxeles): {X.shape}\")\n",
        "\n",
        "    # --- 4. Entrenar el modelo de Regresión Logística ---\n",
        "    X_train, X_test, y_train, y_test = train_test_split(X, y, test_size=0.2, random_state=42)\n",
        "    model = LogisticRegression(max_iter=1000)\n",
        "    model.fit(X_train, y_train)\n",
        "    y_pred = model.predict(X_test)\n",
        "    accuracy = accuracy_score(y_test, y_pred)\n",
        "    print(f\"\\nEl modelo fue entrenado con una precisión del {accuracy * 100:.2f}% en los datos de prueba.\")\n",
        "\n",
        "    # --- 5. Probar el modelo con la imagen \"test\" ---\n",
        "    test_image_path = os.path.join(base_dir, 'test.png')\n",
        "\n",
        "    if os.path.exists(test_image_path):\n",
        "        test_img = Image.open(test_image_path).convert('L').resize((64, 64))\n",
        "        test_img_vector = np.array(test_img).flatten().reshape(1, -1) / 255.0\n",
        "        prediction = model.predict(test_img_vector)\n",
        "\n",
        "        print(\"\\n--- RESULTADO DE LA PREDICCIÓN ---\")\n",
        "        if prediction[0] == 0:\n",
        "            print(\"La imagen 'test.jpg' se clasifica como: **class1** (Círculo).\")\n",
        "        else:\n",
        "            print(\"La imagen 'test.jpg' se clasifica como: **class2** (No Círculo).\")\n",
        "        print(\"-----------------------------------\")\n",
        "    else:\n",
        "        print(f\"\\nError: No se encontró la imagen 'test' en la ruta: {test_image_path}\")"
      ]
    }
  ]
}
