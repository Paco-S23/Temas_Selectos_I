{
 "cells": [
  {
   "cell_type": "code",
   "id": "initial_id",
   "metadata": {
    "collapsed": true,
    "ExecuteTime": {
     "end_time": "2025-09-11T23:13:56.230658Z",
     "start_time": "2025-09-11T23:13:56.227540Z"
    }
   },
   "source": [
    "from random import Random\n",
    "\n",
    "import pandas as pd\n",
    "from sklearn.datasets import load_iris  #example dataset (flowers)\n",
    "from sklearn.linear_model import LogisticRegression\n",
    "from sklearn.model_selection import train_test_split  #split arrays/data into train/validation/test set\n",
    "from sklearn.preprocessing import StandardScaler  #standarize features (mean =0, variance =1)\n",
    "from sklearn.pipeline import Pipeline  #chain process (train-validation-test)\n",
    "from sklearn.metrics import accuracy_score, classification_report, confusion_matrix"
   ],
   "outputs": [],
   "execution_count": 43
  },
  {
   "metadata": {
    "ExecuteTime": {
     "end_time": "2025-09-11T23:13:56.244035Z",
     "start_time": "2025-09-11T23:13:56.239325Z"
    }
   },
   "cell_type": "code",
   "source": [
    "iris = load_iris()\n",
    "#print(iris)\n",
    "#print(type(iris))\n",
    "print(\"Target\", iris.target)  #labes (king of flowers)\n",
    "print(\"Features names\", iris.feature_names)\n",
    "print(\"Target names\", iris.target_names)"
   ],
   "id": "3af71b1ba3aaf5bd",
   "outputs": [
    {
     "name": "stdout",
     "output_type": "stream",
     "text": [
      "Target [0 0 0 0 0 0 0 0 0 0 0 0 0 0 0 0 0 0 0 0 0 0 0 0 0 0 0 0 0 0 0 0 0 0 0 0 0\n",
      " 0 0 0 0 0 0 0 0 0 0 0 0 0 1 1 1 1 1 1 1 1 1 1 1 1 1 1 1 1 1 1 1 1 1 1 1 1\n",
      " 1 1 1 1 1 1 1 1 1 1 1 1 1 1 1 1 1 1 1 1 1 1 1 1 1 1 2 2 2 2 2 2 2 2 2 2 2\n",
      " 2 2 2 2 2 2 2 2 2 2 2 2 2 2 2 2 2 2 2 2 2 2 2 2 2 2 2 2 2 2 2 2 2 2 2 2 2\n",
      " 2 2]\n",
      "Features names ['sepal length (cm)', 'sepal width (cm)', 'petal length (cm)', 'petal width (cm)']\n",
      "Target names ['setosa' 'versicolor' 'virginica']\n"
     ]
    }
   ],
   "execution_count": 44
  },
  {
   "metadata": {
    "ExecuteTime": {
     "end_time": "2025-09-11T23:13:56.256744Z",
     "start_time": "2025-09-11T23:13:56.250513Z"
    }
   },
   "cell_type": "code",
   "source": [
    "import pandas as pd  #convert from bunch (objet) to pandas DataFrame\n",
    "\n",
    "x = iris.data  #features\n",
    "y = iris.target  #labels\n",
    "\n",
    "feature_names = iris.feature_names\n",
    "df = pd.DataFrame(x, columns=iris.feature_names)\n",
    "df['target'] = y\n",
    "print(df)"
   ],
   "id": "72da67d186aae334",
   "outputs": [
    {
     "name": "stdout",
     "output_type": "stream",
     "text": [
      "     sepal length (cm)  sepal width (cm)  petal length (cm)  petal width (cm)  \\\n",
      "0                  5.1               3.5                1.4               0.2   \n",
      "1                  4.9               3.0                1.4               0.2   \n",
      "2                  4.7               3.2                1.3               0.2   \n",
      "3                  4.6               3.1                1.5               0.2   \n",
      "4                  5.0               3.6                1.4               0.2   \n",
      "..                 ...               ...                ...               ...   \n",
      "145                6.7               3.0                5.2               2.3   \n",
      "146                6.3               2.5                5.0               1.9   \n",
      "147                6.5               3.0                5.2               2.0   \n",
      "148                6.2               3.4                5.4               2.3   \n",
      "149                5.9               3.0                5.1               1.8   \n",
      "\n",
      "     target  \n",
      "0         0  \n",
      "1         0  \n",
      "2         0  \n",
      "3         0  \n",
      "4         0  \n",
      "..      ...  \n",
      "145       2  \n",
      "146       2  \n",
      "147       2  \n",
      "148       2  \n",
      "149       2  \n",
      "\n",
      "[150 rows x 5 columns]\n"
     ]
    }
   ],
   "execution_count": 45
  },
  {
   "metadata": {
    "ExecuteTime": {
     "end_time": "2025-09-11T23:13:56.274033Z",
     "start_time": "2025-09-11T23:13:56.268265Z"
    }
   },
   "cell_type": "code",
   "source": [
    "x_train, x_temp, y_train, y_temp = train_test_split(  # x_temp and y_temp are 30%\n",
    "    x,  # features, can be numpy array o pandas dataframe\n",
    "    y,  #labels (optionals)\n",
    "    test_size=0.3,  #proportion of the dataset reserved for temporary\n",
    "    random_state=42,  #random (seed)\n",
    "    #ensure the reproducibility, every time you run the code\n",
    "    stratify=y  #ensures each class proportion are preserved\n",
    ")\n",
    "#data (samples, labels) 0.3 (%70 test)\n",
    "\n",
    "\n",
    "#split 15% for validation 15% for test\n",
    "x_val, x_test, y_val, y_test = train_test_split(\n",
    "    x_temp,  # features, can be numpy array o pandas dataframe\n",
    "    y_temp,  #labels (optionals)\n",
    "    test_size=0.5,  #proportion of the dataset reserved for temporary\n",
    "    random_state=42,  #random (seed)\n",
    "    #ensure the reproducibility, every time you run the code\n",
    "    stratify=y_temp  #ensures each class proportion are preserved\n",
    ")\n",
    "\n",
    "#data (samples,labels), 0.5 validation 0.5 test\n",
    "\n",
    "print(\"Lenght Iris\", len(y))\n",
    "print(\"Train x\", x_train.shape, \"y\", y_train.shape, \"whit \", len(y_train) / len(y) * 100, \"%\")\n",
    "print(\"Validation x \", x_val.shape, \"y\", y_val.shape, \"whit \", len(y_val) / len(y) * 100, \"%\")\n",
    "print(\"Test x\", x_test.shape, \"y\", y_test.shape, \"whit \", len(y_test) / len(y) * 100, \"%\")\n",
    "\n",
    "#accuracy = exactitud\n",
    "#precision = precision porcentaje de los predecidos como verdadero de todos los positivos"
   ],
   "id": "cf97a7f7d1d51e5d",
   "outputs": [
    {
     "name": "stdout",
     "output_type": "stream",
     "text": [
      "Lenght Iris 150\n",
      "Train x (105, 4) y (105,) whit  70.0 %\n",
      "Validation x  (22, 4) y (22,) whit  14.666666666666666 %\n",
      "Test x (23, 4) y (23,) whit  15.333333333333332 %\n"
     ]
    }
   ],
   "execution_count": 46
  },
  {
   "metadata": {
    "ExecuteTime": {
     "end_time": "2025-09-11T23:13:56.282352Z",
     "start_time": "2025-09-11T23:13:56.279451Z"
    }
   },
   "cell_type": "code",
   "source": [
    "pipe = Pipeline([\n",
    "\n",
    "    #1 preprocessing\n",
    "    #StandardScaler (normalizar -> media 0 y varianza 1)\n",
    "    (\"scaler\", StandardScaler()),\n",
    "\n",
    "    #2 model (logistic regression)\n",
    "\n",
    "    (\"clf\", LogisticRegression(  #hyperparameters\n",
    "        C=1.0,  #control the force of regulation and the overfitting (falta de entrenamiento)\n",
    "        random_state=42,\n",
    "        max_iter=1000,  #iteration numbers\n",
    "        multi_class=\"auto\",  #strategy for multiclass classification\n",
    "    ))  #clf clasificador\n",
    "])"
   ],
   "id": "b8ad5a39b2a4869a",
   "outputs": [],
   "execution_count": 47
  },
  {
   "metadata": {
    "ExecuteTime": {
     "end_time": "2025-09-11T23:13:56.303448Z",
     "start_time": "2025-09-11T23:13:56.291027Z"
    }
   },
   "cell_type": "code",
   "source": [
    "#step 1 fit the pipeline on the train data\n",
    "pipe.fit(x_train, y_train)  #standardScaler -> LogisticRegression\n",
    "#standardScaler.train()\n",
    "#standarScaler.predict()\n",
    "#logisticRegression.train()\n",
    "#logisticRegression.predict()\n",
    "#computes the preprocessing and model\n",
    "\n",
    "#step 2\n",
    "# train the pipeline on the validation data\n",
    "y_val_predict = pipe.predict(x_val)\n",
    "print(y_val)\n",
    "print(y_val_predict)\n",
    "\n",
    "#step 3\n",
    "#compute accuracy on the validation set\n",
    "val_acc = accuracy_score(y_val, y_val_predict)\n",
    "print(\"Validation Accuracy\", val_acc)\n",
    "cm1 = confusion_matrix(y_val, y_val_predict)\n",
    "print(cm1)\n",
    "\n",
    "#step 4\n",
    "y_test_pred = pipe.predict(x_test)  #evaluate on test set\n",
    "test_acc = accuracy_score(y_test, y_test_pred)\n",
    "print(\"Test Accuracy\", test_acc)\n",
    "\n",
    "cm2 = confusion_matrix(y_test, y_test_pred)\n",
    "print(cm2)"
   ],
   "id": "74781b740bd9184",
   "outputs": [
    {
     "name": "stdout",
     "output_type": "stream",
     "text": [
      "[1 2 1 2 2 1 0 0 0 0 2 1 2 0 0 1 2 1 0 2 0 1]\n",
      "[2 2 1 1 2 1 0 0 0 0 1 1 2 0 0 1 2 1 0 2 0 1]\n",
      "Validation Accuracy 0.8636363636363636\n",
      "[[8 0 0]\n",
      " [0 6 1]\n",
      " [0 2 5]]\n",
      "Test Accuracy 0.9565217391304348\n",
      "[[7 0 0]\n",
      " [0 8 0]\n",
      " [0 1 7]]\n"
     ]
    },
    {
     "name": "stderr",
     "output_type": "stream",
     "text": [
      "C:\\Users\\pacom\\OneDrive\\Escritorio\\Temas Selectos I\\.venv\\Lib\\site-packages\\sklearn\\linear_model\\_logistic.py:1272: FutureWarning: 'multi_class' was deprecated in version 1.5 and will be removed in 1.7. From then on, it will always use 'multinomial'. Leave it to its default value to avoid this warning.\n",
      "  warnings.warn(\n"
     ]
    }
   ],
   "execution_count": 48
  }
 ],
 "metadata": {
  "kernelspec": {
   "display_name": "Python 3",
   "language": "python",
   "name": "python3"
  },
  "language_info": {
   "codemirror_mode": {
    "name": "ipython",
    "version": 2
   },
   "file_extension": ".py",
   "mimetype": "text/x-python",
   "name": "python",
   "nbconvert_exporter": "python",
   "pygments_lexer": "ipython2",
   "version": "2.7.6"
  }
 },
 "nbformat": 4,
 "nbformat_minor": 5
}
