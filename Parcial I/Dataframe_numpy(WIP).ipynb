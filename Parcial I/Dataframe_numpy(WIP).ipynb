{
 "nbformat": 4,
 "nbformat_minor": 0,
 "metadata": {
  "colab": {
   "provenance": []
  },
  "kernelspec": {
   "name": "python3",
   "display_name": "Python 3 (ipykernel)",
   "language": "python"
  },
  "language_info": {
   "name": "python"
  }
 },
 "cells": [
  {
   "cell_type": "code",
   "metadata": {
    "colab": {
     "base_uri": "https://localhost:8080/"
    },
    "id": "5A8jzugmqN-O",
    "outputId": "33fb6824-06b9-4cf4-d335-7f3c7017721e",
    "ExecuteTime": {
     "end_time": "2025-09-04T19:19:42.674888Z",
     "start_time": "2025-09-04T19:19:27.561997Z"
    }
   },
   "source": [
    "import pandas as pd\n",
    "\n",
    "dataframe = pd.read_csv(\"Datasets/dataset_large.csv\")\n",
    "dataframe.head()\n",
    "#dataframe.info()\n",
    "#dataframe.describe()\n",
    "print(dataframe)"
   ],
   "outputs": [
    {
     "name": "stdout",
     "output_type": "stream",
     "text": [
      "         ID  Edad       Ciudad  Puntaje  Ingreso\n",
      "0         1    56       Toluca       78    33234\n",
      "1         2    46  Guadalajara       73    24786\n",
      "2         3    32         CDMX       87    42100\n",
      "3         4    60       Toluca       61    20329\n",
      "4         5    25         CDMX       78    20698\n",
      "...     ...   ...          ...      ...      ...\n",
      "9995   9996    33  Guadalajara       82    45836\n",
      "9996   9997    29         CDMX       78     6284\n",
      "9997   9998    18         CDMX       86    33094\n",
      "9998   9999    25         CDMX       71    19466\n",
      "9999  10000    30       Toluca       75    43121\n",
      "\n",
      "[10000 rows x 5 columns]\n"
     ]
    }
   ],
   "execution_count": 1
  },
  {
   "cell_type": "code",
   "source": [
    "first_row = dataframe.iloc[200]\n",
    "print(\"First row:\", first_row)  #sample with features\n",
    "\n",
    "#columns per label\n",
    "col_city = dataframe['Ciudad']\n",
    "print(col_city)"
   ],
   "metadata": {
    "colab": {
     "base_uri": "https://localhost:8080/"
    },
    "id": "1-OrD9JQtwyq",
    "outputId": "eaf7828e-596d-46da-fc7a-3510c850df72",
    "ExecuteTime": {
     "end_time": "2025-09-04T19:19:42.698099Z",
     "start_time": "2025-09-04T19:19:42.693024Z"
    }
   },
   "outputs": [
    {
     "name": "stdout",
     "output_type": "stream",
     "text": [
      "First row: ID           201\n",
      "Edad          56\n",
      "Ciudad      CDMX\n",
      "Puntaje       83\n",
      "Ingreso    32158\n",
      "Name: 200, dtype: object\n",
      "0            Toluca\n",
      "1       Guadalajara\n",
      "2              CDMX\n",
      "3            Toluca\n",
      "4              CDMX\n",
      "           ...     \n",
      "9995    Guadalajara\n",
      "9996           CDMX\n",
      "9997           CDMX\n",
      "9998           CDMX\n",
      "9999         Toluca\n",
      "Name: Ciudad, Length: 10000, dtype: object\n"
     ]
    }
   ],
   "execution_count": 2
  },
  {
   "cell_type": "code",
   "source": [
    "# samples ('Edad')> 50\n",
    "mayores_50 = dataframe[dataframe[\"Edad\"] > 50]\n",
    "print(mayores_50)\n",
    "print(type(mayores_50))"
   ],
   "metadata": {
    "colab": {
     "base_uri": "https://localhost:8080/"
    },
    "id": "hKS97SdcwAmR",
    "outputId": "d9642175-4125-4bf0-ea0b-1b33aaf06490",
    "ExecuteTime": {
     "end_time": "2025-09-04T19:19:42.710288Z",
     "start_time": "2025-09-04T19:19:42.704871Z"
    }
   },
   "outputs": [
    {
     "name": "stdout",
     "output_type": "stream",
     "text": [
      "        ID  Edad       Ciudad  Puntaje  Ingreso\n",
      "0        1    56       Toluca       78    33234\n",
      "3        4    60       Toluca       61    20329\n",
      "6        7    56    Monterrey       85    21548\n",
      "12      13    53       Toluca       97    39536\n",
      "13      14    57         CDMX       82    36755\n",
      "...    ...   ...          ...      ...      ...\n",
      "9973  9974    54  Guadalajara       95    36723\n",
      "9976  9977    53       Puebla       83    45043\n",
      "9984  9985    51         CDMX       62    23645\n",
      "9985  9986    60  Guadalajara       53     6023\n",
      "9994  9995    59    Monterrey       77    25141\n",
      "\n",
      "[2982 rows x 5 columns]\n",
      "<class 'pandas.core.frame.DataFrame'>\n"
     ]
    }
   ],
   "execution_count": 3
  },
  {
   "metadata": {
    "ExecuteTime": {
     "end_time": "2025-09-04T19:19:42.720338Z",
     "start_time": "2025-09-04T19:19:42.716323Z"
    }
   },
   "cell_type": "code",
   "source": [
    "#convert pandas -> numpy\n",
    "#in ML many models receive Numpy \"ndarray\"\n",
    "#scalars\n",
    "#vectors\n",
    "#matrix\n",
    "#tensors\n",
    "\n",
    "import numpy as np\n",
    "\n",
    "'''\n",
    "Select only the relevant numeric colums (here all are)\n",
    "Puntaje, Edad, Ingreso\n",
    "'''\n",
    "\n",
    "num_vec = dataframe.select_dtypes(include=[\"number\"]) .to_numpy()#float and integer\n",
    "\n",
    "#select_dtypes -> filtering\n",
    "#.to_numpy -> convert\n",
    "\n",
    "print(num_vec)\n",
    "print(type(num_vec))\n",
    "print(\"Shape:\", num_vec.shape)\n",
    "print(num_vec[9999])"
   ],
   "outputs": [
    {
     "name": "stdout",
     "output_type": "stream",
     "text": [
      "[[    1    56    78 33234]\n",
      " [    2    46    73 24786]\n",
      " [    3    32    87 42100]\n",
      " ...\n",
      " [ 9998    18    86 33094]\n",
      " [ 9999    25    71 19466]\n",
      " [10000    30    75 43121]]\n",
      "<class 'numpy.ndarray'>\n",
      "Shape: (10000, 4)\n",
      "[10000    30    75 43121]\n"
     ]
    }
   ],
   "execution_count": 4
  },
  {
   "metadata": {
    "ExecuteTime": {
     "end_time": "2025-09-04T19:19:43.635853Z",
     "start_time": "2025-09-04T19:19:42.728858Z"
    }
   },
   "cell_type": "code",
   "source": [
    "\n",
    "#steps to calculating cos(theta)\n",
    "\n",
    "# 1) norm of each rows (lenght of each vector (each vector is a row))\n",
    "\n",
    "print(\"Norms\")\n",
    "norms = np.linalg.norm(num_vec, axis=1) #axis --> 0 by column, 1 by row\n",
    "print(norms,\"\\n\")\n",
    "\n",
    "# 2) dot product of each tuple (row, row)\n",
    "\n",
    "print(\"Dot product\")\n",
    "dot_product = num_vec @ num_vec.T #.ndot np.dot \"@\" works always\n",
    "print(dot_product, \"\\n\")\n",
    "\n",
    "#Calculation of cos(theta)\n",
    "#difference of each sample (not minus (-)) features\n",
    "\n",
    "norms = norms.reshape(-1, 1)\n",
    "print(norms, \"\\n\")#print like a lits\n",
    "\n",
    "cosine_matrix = dot_product / (norms @ norms.T)\n",
    "print(\"Cosine \\n\", cosine_matrix [999,9987]) #difference between 999  and 9987 (features)\n"
   ],
   "outputs": [
    {
     "name": "stdout",
     "output_type": "stream",
     "text": [
      "Norms\n",
      "[33234.13872812 24786.15026582 42100.1021614  ... 34571.38354188\n",
      " 21884.03123284 44265.41726901] \n",
      "\n",
      "Dot product\n",
      "[[1104507977  823746196 1399159981 ... 1099863710  646949981 1433100844]\n",
      " [ 823746196  614353245 1043498429 ...  820294986  482510607 1068823961]\n",
      " [1399159981 1043498429 1772418602 ... 1393295452  819555574 1815431585]\n",
      " ...\n",
      " [1099863710  820294986 1393295452 ... 1195180560  744184362 1527033364]\n",
      " [ 646949981  482510607  819555574 ...  744184362  478910823  939389461]\n",
      " [1433100844 1068823961 1815431585 ... 1527033364  939389461 1959427166]] \n",
      "\n",
      "[[33234.13872812]\n",
      " [24786.15026582]\n",
      " [42100.1021614 ]\n",
      " ...\n",
      " [34571.38354188]\n",
      " [21884.03123284]\n",
      " [44265.41726901]] \n",
      "\n",
      "Cosine \n",
      " 0.9799218617449923\n"
     ]
    }
   ],
   "execution_count": 5
  }
 ]
}
