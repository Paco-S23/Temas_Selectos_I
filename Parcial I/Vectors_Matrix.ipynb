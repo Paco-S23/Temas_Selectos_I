{
 "cells": [
  {
   "cell_type": "code",
   "id": "initial_id",
   "metadata": {
    "collapsed": true,
    "ExecuteTime": {
     "end_time": "2025-09-04T19:20:36.880063Z",
     "start_time": "2025-09-04T19:20:05.767357Z"
    }
   },
   "source": [
    "import scipy, pandas, numpy, statsmodels, matplotlib, sklearn, networkx\n",
    "\n",
    "print(\"Scipy\" , scipy.__version__)\n",
    "print(\"Mumpy\",numpy.__version__)\n",
    "print(\"Pandas\", pandas.__version__)\n",
    "print(\"Stats\", statsmodels.__version__)\n",
    "print(\"matplotlib\", matplotlib.__version__)\n",
    "print(\"sklearn\", sklearn.__version__)\n",
    "print(\"Networkx\", networkx.h__version__)"
   ],
   "outputs": [
    {
     "name": "stdout",
     "output_type": "stream",
     "text": [
      "Scipy 1.16.1\n",
      "Mumpy 2.3.2\n",
      "Pandas 2.3.1\n",
      "Stats 0.14.5\n",
      "matplotlib 3.10.5\n",
      "sklearn 1.7.1\n",
      "Networkx 3.5\n"
     ]
    }
   ],
   "execution_count": 1
  },
  {
   "metadata": {
    "ExecuteTime": {
     "end_time": "2025-09-04T19:20:36.910333Z",
     "start_time": "2025-09-04T19:20:36.906327Z"
    }
   },
   "cell_type": "code",
   "source": [
    "import numpy as np\n",
    "\n",
    "x= np.array([[1.2, 3.1, 0.5],\n",
    "             [0.9, 2.4, 1.4],\n",
    "             [2.2, 0.4, 3.3]]) #numpy array works only with numbers but can show other data types\n",
    "\n",
    "print(x)"
   ],
   "id": "978ac97cc90204ec",
   "outputs": [
    {
     "name": "stdout",
     "output_type": "stream",
     "text": [
      "[[1.2 3.1 0.5]\n",
      " [0.9 2.4 1.4]\n",
      " [2.2 0.4 3.3]]\n"
     ]
    }
   ],
   "execution_count": 2
  },
  {
   "metadata": {
    "ExecuteTime": {
     "end_time": "2025-09-04T19:20:36.978176Z",
     "start_time": "2025-09-04T19:20:36.927086Z"
    }
   },
   "cell_type": "code",
   "source": "x.shape #forma de la matrix \"size\"",
   "id": "7dc77978acc9b1a7",
   "outputs": [
    {
     "data": {
      "text/plain": [
       "(3, 3)"
      ]
     },
     "execution_count": 3,
     "metadata": {},
     "output_type": "execute_result"
    }
   ],
   "execution_count": 3
  },
  {
   "metadata": {
    "ExecuteTime": {
     "end_time": "2025-09-04T19:20:36.992379Z",
     "start_time": "2025-09-04T19:20:36.989223Z"
    }
   },
   "cell_type": "code",
   "source": [
    "print(x[1]) #print the second row (sample)\n",
    "print(x[:,1]) #print the second colum (feature)"
   ],
   "id": "a9d4c419d3961bad",
   "outputs": [
    {
     "name": "stdout",
     "output_type": "stream",
     "text": [
      "[0.9 2.4 1.4]\n",
      "[3.1 2.4 0.4]\n"
     ]
    }
   ],
   "execution_count": 4
  },
  {
   "metadata": {
    "ExecuteTime": {
     "end_time": "2025-09-04T19:20:37.013261Z",
     "start_time": "2025-09-04T19:20:37.003512Z"
    }
   },
   "cell_type": "code",
   "source": [
    "import pandas as pd\n",
    "\n",
    "data = { #key:value\n",
    "         #key is sample\n",
    "         #value(s) are the features\n",
    "         'Weight': [150, 249, 1000, 350],\n",
    "         'Brand': [\"DJI\",\"Insta\", \"Canon\", \"Chinito\"],\n",
    "         'Speed': [30,50, 120, 150],\n",
    "         \"Color\": [\"Gray\", \"Black\", \"White\", \"Orange\"]\n",
    "\n",
    "}\n",
    "print(data) #print dictionary\n",
    "df = pd.DataFrame(data) # primero trabajamos con diccionarios y despues con tablas\n",
    "print(df)"
   ],
   "id": "a582ce798d7247a",
   "outputs": [
    {
     "name": "stdout",
     "output_type": "stream",
     "text": [
      "{'Weight': [150, 249, 1000, 350], 'Brand': ['DJI', 'Insta', 'Canon', 'Chinito'], 'Speed': [30, 50, 120, 150], 'Color': ['Gray', 'Black', 'White', 'Orange']}\n",
      "   Weight    Brand  Speed   Color\n",
      "0     150      DJI     30    Gray\n",
      "1     249    Insta     50   Black\n",
      "2    1000    Canon    120   White\n",
      "3     350  Chinito    150  Orange\n"
     ]
    }
   ],
   "execution_count": 5
  },
  {
   "metadata": {
    "ExecuteTime": {
     "end_time": "2025-09-04T19:20:37.040687Z",
     "start_time": "2025-09-04T19:20:37.027335Z"
    }
   },
   "cell_type": "code",
   "source": [
    "df.info () #data types\n",
    "df.describe() #basic calculations (statistics)"
   ],
   "id": "a310e58622691867",
   "outputs": [
    {
     "name": "stdout",
     "output_type": "stream",
     "text": [
      "<class 'pandas.core.frame.DataFrame'>\n",
      "RangeIndex: 4 entries, 0 to 3\n",
      "Data columns (total 4 columns):\n",
      " #   Column  Non-Null Count  Dtype \n",
      "---  ------  --------------  ----- \n",
      " 0   Weight  4 non-null      int64 \n",
      " 1   Brand   4 non-null      object\n",
      " 2   Speed   4 non-null      int64 \n",
      " 3   Color   4 non-null      object\n",
      "dtypes: int64(2), object(2)\n",
      "memory usage: 260.0+ bytes\n"
     ]
    },
    {
     "data": {
      "text/plain": [
       "            Weight       Speed\n",
       "count     4.000000    4.000000\n",
       "mean    437.250000   87.500000\n",
       "std     383.949107   56.789083\n",
       "min     150.000000   30.000000\n",
       "25%     224.250000   45.000000\n",
       "50%     299.500000   85.000000\n",
       "75%     512.500000  127.500000\n",
       "max    1000.000000  150.000000"
      ],
      "text/html": [
       "<div>\n",
       "<style scoped>\n",
       "    .dataframe tbody tr th:only-of-type {\n",
       "        vertical-align: middle;\n",
       "    }\n",
       "\n",
       "    .dataframe tbody tr th {\n",
       "        vertical-align: top;\n",
       "    }\n",
       "\n",
       "    .dataframe thead th {\n",
       "        text-align: right;\n",
       "    }\n",
       "</style>\n",
       "<table border=\"1\" class=\"dataframe\">\n",
       "  <thead>\n",
       "    <tr style=\"text-align: right;\">\n",
       "      <th></th>\n",
       "      <th>Weight</th>\n",
       "      <th>Speed</th>\n",
       "    </tr>\n",
       "  </thead>\n",
       "  <tbody>\n",
       "    <tr>\n",
       "      <th>count</th>\n",
       "      <td>4.000000</td>\n",
       "      <td>4.000000</td>\n",
       "    </tr>\n",
       "    <tr>\n",
       "      <th>mean</th>\n",
       "      <td>437.250000</td>\n",
       "      <td>87.500000</td>\n",
       "    </tr>\n",
       "    <tr>\n",
       "      <th>std</th>\n",
       "      <td>383.949107</td>\n",
       "      <td>56.789083</td>\n",
       "    </tr>\n",
       "    <tr>\n",
       "      <th>min</th>\n",
       "      <td>150.000000</td>\n",
       "      <td>30.000000</td>\n",
       "    </tr>\n",
       "    <tr>\n",
       "      <th>25%</th>\n",
       "      <td>224.250000</td>\n",
       "      <td>45.000000</td>\n",
       "    </tr>\n",
       "    <tr>\n",
       "      <th>50%</th>\n",
       "      <td>299.500000</td>\n",
       "      <td>85.000000</td>\n",
       "    </tr>\n",
       "    <tr>\n",
       "      <th>75%</th>\n",
       "      <td>512.500000</td>\n",
       "      <td>127.500000</td>\n",
       "    </tr>\n",
       "    <tr>\n",
       "      <th>max</th>\n",
       "      <td>1000.000000</td>\n",
       "      <td>150.000000</td>\n",
       "    </tr>\n",
       "  </tbody>\n",
       "</table>\n",
       "</div>"
      ]
     },
     "execution_count": 6,
     "metadata": {},
     "output_type": "execute_result"
    }
   ],
   "execution_count": 6
  }
 ],
 "metadata": {
  "kernelspec": {
   "display_name": "Python 3",
   "language": "python",
   "name": "python3"
  },
  "language_info": {
   "codemirror_mode": {
    "name": "ipython",
    "version": 2
   },
   "file_extension": ".py",
   "mimetype": "text/x-python",
   "name": "python",
   "nbconvert_exporter": "python",
   "pygments_lexer": "ipython2",
   "version": "2.7.6"
  }
 },
 "nbformat": 4,
 "nbformat_minor": 5
}
